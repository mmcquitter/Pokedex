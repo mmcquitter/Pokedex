{
 "cells": [
  {
   "cell_type": "markdown",
   "metadata": {},
   "source": [
    "# Pokedex Data "
   ]
  },
  {
   "cell_type": "markdown",
   "metadata": {},
   "source": [
    "## Summary\n",
    "\n",
    "As a big fan of Pokemon, I wanted to try a project with Pokemon data. This project is my first webscraping attempt using Beautiful soup. Below you'll find the main code and then an \"enhancements\" section for future features."
   ]
  },
  {
   "cell_type": "markdown",
   "metadata": {},
   "source": [
    "## Code"
   ]
  },
  {
   "cell_type": "code",
   "execution_count": null,
   "metadata": {},
   "outputs": [],
   "source": [
    "import time\n",
    "import pandas as pd\n",
    "import requests\n",
    "from bs4 import BeautifulSoup as bs\n",
    "\n",
    "start_time = time.time()\n",
    "\n",
    "url = 'https://www.pokemon.com/us/pokedex/'\n",
    "\n",
    "req = requests.get(url + '1').text\n",
    "\n",
    "soup = bs(req, 'lxml')\n",
    "\n",
    "prev_pokemon = soup.find('span', class_ = \"icon icon_arrow_sm_left\")\n",
    "max_num = (prev_pokemon.find_next_siblings(\"span\")[0]).string[1:]"
   ]
  },
  {
   "cell_type": "code",
   "execution_count": null,
   "metadata": {},
   "outputs": [],
   "source": [
    "#Creating a dictionary to add data to and then use Pandas to make a dataframe\n",
    "pokedex = {\n",
    "    '#' : [],\n",
    "    'Name' : [],\n",
    "    '# of Forms' : [],\n",
    "    'Height' : [],\n",
    "    'Weight' : [],\n",
    "    'Genders' : [],\n",
    "    'Category' : [],\n",
    "    'Abilities' : [],\n",
    "    'Type #1' : [],\n",
    "    'Type #2' : [],\n",
    "    'Weakness #1' : [],\n",
    "    'Weakness #2' : [],\n",
    "    'Weakness #3' : [],\n",
    "    'Weakness #4' : [],\n",
    "    'Weakness #5' : [],\n",
    "    'Weakness #6' : [],\n",
    "    'Weakness #7' : [],\n",
    "    'Weakness #8' : [],\n",
    "    #'Evolves into' : [],\n",
    "    #'Evolved from' : [],\n",
    "    'Image' : []\n",
    "}\n",
    "\n",
    "for pokedex_num in range(1,int(max_num)+1):\n",
    "    \n",
    "    r = requests.get(url + str(pokedex_num)).text\n",
    "\n",
    "    s = bs(r, 'lxml')\n",
    "\n",
    "#National Pokedex Number\n",
    "    pokedex['#'].append(pokedex_num)\n",
    "\n",
    "#Name of Pokemon\n",
    "    pokemon_name = str(s.title.string).split()[0]\n",
    "    pokedex['Name'].append(pokemon_name)\n",
    "\n",
    "#Number of Forms    \n",
    "    details = s.find_all('section')[1]\n",
    "    number_of_forms = len(details.find_all('option'))\n",
    "    pokedex['# of Forms'].append(number_of_forms)\n",
    "    \n",
    "#Height of Pokemon\n",
    "    height = (s.find_all('span', class_ = \"attribute-value\")[0]).string\n",
    "    pokedex['Height'].append(height)\n",
    "    \n",
    "#Weight of Pokemon\n",
    "    weight = (s.find_all('span', class_ = \"attribute-value\")[1]).string\n",
    "    pokedex['Weight'].append(weight)\n",
    "\n",
    "#Genders Pokemon could be (if known)\n",
    "    gender_list = ['Unknown','Male','Female','Male/Female']\n",
    "    m = (s.find('i', class_ = 'icon icon_male_symbol') is not None)*1\n",
    "    f = (s.find('i', class_ = 'icon icon_female_symbol') is not None)*2\n",
    "    genders = gender_list[(m+f)]\n",
    "    pokedex['Genders'].append(genders)\n",
    "\n",
    "#Category of Pokemon\n",
    "    category = s.find('span', text = \"Category\").parent.find('span', class_ ='attribute-value').string\n",
    "    pokedex['Category'].append(category)\n",
    "    \n",
    "#Pokemon Abillities\n",
    "    abilities_list = list(s.find('span', text = \"Abilities\").parent.find_all('span', class_ ='attribute-value'))\n",
    "    number_of_abilities = len(abilities_list)\n",
    "    abilities = abilities_list[0].string if number_of_abilities == 1 else abilities_list[0].string+'/'+abilities_list[1].string\n",
    "    pokedex['Abilities'].append(abilities)\n",
    "    \n",
    "#Pokemon Types\n",
    "    types = s.find('div', class_ = 'dtm-type').find_all('a')\n",
    "    type1 = types[0].string\n",
    "    type2 = types[1].string if len(types) > 1 else ''\n",
    "    pokedex['Type #1'].append(type1)\n",
    "    pokedex['Type #2'].append(type1)\n",
    "    \n",
    "#Pokemon Weaknesses\n",
    "    w = s.find('div', class_ = 'dtm-weaknesses').find_all('span')\n",
    "    weakness1 = w[0].get_text(strip=True)\n",
    "    pokedex['Weakness #1'].append(weakness1)\n",
    "    weakness2 = w[1].get_text(strip=True) if len(w) > 1 else ''\n",
    "    pokedex['Weakness #2'].append(weakness2)\n",
    "    weakness3 = w[2].get_text(strip=True) if len(w) > 2 else ''\n",
    "    pokedex['Weakness #3'].append(weakness3)\n",
    "    weakness4 = w[3].get_text(strip=True) if len(w) > 3 else ''\n",
    "    pokedex['Weakness #4'].append(weakness4)\n",
    "    weakness5 = w[4].get_text(strip=True) if len(w) > 4 else ''\n",
    "    pokedex['Weakness #5'].append(weakness5)\n",
    "    weakness6 = w[5].get_text(strip=True) if len(w) > 5 else ''\n",
    "    pokedex['Weakness #6'].append(weakness6)\n",
    "    weakness7 = w[6].get_text(strip=True) if len(w) > 6 else ''\n",
    "    pokedex['Weakness #7'].append(weakness7)\n",
    "    weakness8 = w[7].get_text(strip=True) if len(w) > 7 else ''\n",
    "    pokedex['Weakness #8'].append(weakness8)\n",
    "    \n",
    "#Next Evolution of Pokemon\n",
    "    #pokedex['Evolves into'].append()\n",
    "    \n",
    "#Previous Form that Pokemon Evolved from\n",
    "    #pokedex['Evolved from'].append()\n",
    "\n",
    "#Image link of pokemon\n",
    "    img_link = (s.find_all('img', class_ = 'active')[0]).get('src')\n",
    "    pokedex['Image'].append(img_link)\n",
    "\n",
    "#Turn Pokede dictionary into a pandas dataframe\n",
    "df = pd.DataFrame.from_dict(pokedex)\n",
    "df.set_index('#',inplace = True)\n",
    "df.to_excel(\"pokedata.xlsx\")  \n",
    "print('Done')\n",
    "print(\"--- %s seconds ---\" % (time.time() - start_time))"
   ]
  },
  {
   "cell_type": "markdown",
   "metadata": {},
   "source": [
    "## Enhancements"
   ]
  },
  {
   "cell_type": "markdown",
   "metadata": {},
   "source": [
    "- change time to min if > 60 sec\n",
    "- write to excel sheet name 'Data'\n",
    "- add evolution data\n",
    "- add forms\n",
    "- add stats (hp, attack, defense, etc.)\n",
    "- number of appearances in show\n",
    "- number of unique trading cards"
   ]
  },
  {
   "cell_type": "code",
   "execution_count": null,
   "metadata": {
    "scrolled": true
   },
   "outputs": [],
   "source": [
    "r = requests.get(url + '133').text\n",
    "\n",
    "s = bs(r, 'lxml')"
   ]
  },
  {
   "cell_type": "code",
   "execution_count": null,
   "metadata": {},
   "outputs": [],
   "source": [
    "#Evolved from = \n",
    "#Evolves into = "
   ]
  },
  {
   "cell_type": "code",
   "execution_count": null,
   "metadata": {
    "scrolled": true
   },
   "outputs": [],
   "source": [
    "evo = s.find('ul', class_ ='evolution-profile')\n",
    "s2 = bs(evo.text, 'lxml')\n",
    "evo = s2.body.p.get_text(strip = True)\n",
    "evo_list = evo.split('\\n')\n",
    "evo_list = [x.strip(' ') for x in evo_list]\n",
    "evo_dict = dict.fromkeys(evo_list)\n",
    "del evo_dict['']\n",
    "evo_list = list(evo_dict)"
   ]
  },
  {
   "cell_type": "code",
   "execution_count": null,
   "metadata": {},
   "outputs": [],
   "source": [
    "evo_list"
   ]
  },
  {
   "cell_type": "code",
   "execution_count": null,
   "metadata": {},
   "outputs": [],
   "source": []
  }
 ],
 "metadata": {
  "kernelspec": {
   "display_name": "Python 3",
   "language": "python",
   "name": "python3"
  },
  "language_info": {
   "codemirror_mode": {
    "name": "ipython",
    "version": 3
   },
   "file_extension": ".py",
   "mimetype": "text/x-python",
   "name": "python",
   "nbconvert_exporter": "python",
   "pygments_lexer": "ipython3",
   "version": "3.8.5"
  }
 },
 "nbformat": 4,
 "nbformat_minor": 4
}
