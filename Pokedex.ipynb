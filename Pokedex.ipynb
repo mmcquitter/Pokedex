{
 "cells": [
  {
   "cell_type": "markdown",
   "metadata": {},
   "source": [
    "# Pokedex Data "
   ]
  },
  {
   "cell_type": "code",
   "execution_count": null,
   "metadata": {},
   "outputs": [],
   "source": [
    "import pandas as pd\n",
    "import requests\n",
    "from bs4 import BeautifulSoup as bs\n",
    "\n",
    "url = 'https://www.pokemon.com/us/pokedex/'\n",
    "\n",
    "req = requests.get(url + '1').text\n",
    "\n",
    "soup = bs(req, 'lxml')\n",
    "\n",
    "prev_pokemon = soup.find('span', class_ = \"icon icon_arrow_sm_left\")\n",
    "max_num = (prev_pokemon.find_next_siblings(\"span\")[0]).string[1:]"
   ]
  },
  {
   "cell_type": "code",
   "execution_count": null,
   "metadata": {},
   "outputs": [],
   "source": [
    "#Creating a dictionary to add data to and then use Pandas to make a dataframe\n",
    "pokedex = {\n",
    "    '#' : [],\n",
    "    'Name' : [],\n",
    "    '# of Forms' : [],\n",
    "    'Height' : [],\n",
    "    'Weight' : [],\n",
    "    'Genders' : [],\n",
    "    'Category' : [],\n",
    "    'Abilities' : [],\n",
    "    'Types' : [],\n",
    "    'Weaknesses' : [],\n",
    "    'Evolves into' : [],\n",
    "    'Evolved from' : []\n",
    "}\n",
    "# int(max_num)+1\n",
    "for pokedex_num in range(1,10):\n",
    "    \n",
    "    r = requests.get(url + str(pokedex_num)).text\n",
    "\n",
    "    s = bs(r, 'lxml')\n",
    "\n",
    "#National Pokedex Number\n",
    "    pokedex['#'].append(pokedex_num)\n",
    "\n",
    "#Name of Pokemon\n",
    "    pokemon_name = str(s.title.string).split()[0]\n",
    "    pokedex['Name'].append(pokemon_name)\n",
    "\n",
    "#Number of Forms    \n",
    "    details = s.find_all('section')[1]\n",
    "    number_of_forms = len(details.find_all('option'))\n",
    "    pokedex['# of Forms'].append(number_of_forms)\n",
    "    \n",
    "#Height of Pokemon\n",
    "    height = (s.find_all('span', class_ = \"attribute-value\")[0]).string\n",
    "    pokedex['Height'].append(height)\n",
    "    \n",
    "#Weight of Pokemon\n",
    "    weight = (s.find_all('span', class_ = \"attribute-value\")[1]).string\n",
    "    pokedex['Weight'].append(weight)\n",
    "\n",
    "#Genders Pokemon could be (if known)\n",
    "    \n",
    "    #pokedex['Genders'].append(genders)\n",
    "\n",
    "#Category of Pokemon\n",
    "    category = s.find('span', text = \"Category\").parent.find('span', class_ ='attribute-value').string\n",
    "    pokedex['Category'].append(category)\n",
    "    \n",
    "#Pokemon Abillities\n",
    "    abilities_list = list(s.find('span', text = \"Abilities\").parent.find_all('span', class_ ='attribute-value'))\n",
    "    number_of_abilities = len(abilities_list)\n",
    "    abilities = abilities_list[0].string if number_of_abilities == 1 else abilities_list[0].string+'/'+abilities_list[1].string\n",
    "    pokedex['Abilities'].append(abilities)\n",
    "    \n",
    "#Pokemon Types\n",
    "    #pokedex['Types'].append()\n",
    "    \n",
    "#Pokemon Weaknesses\n",
    "    #pokedex['Weaknesses'].append()\n",
    "    \n",
    "#Next Evolution of Pokemon\n",
    "    #pokedex['Evolves into'].append()\n",
    "    \n",
    "#Previous Form that Pokemon Evolved from\n",
    "    #pokedex['Evolved from'].append()\n",
    "\n",
    "#Image link of pokemon\n",
    "    img_link = (s.find_all('img', class_ = 'active')[0]).get('src')\n",
    "    pokedex['Image'].append(img_link)\n",
    "\n",
    "print('Done')"
   ]
  },
  {
   "cell_type": "code",
   "execution_count": null,
   "metadata": {},
   "outputs": [],
   "source": [
    "df = pd.DataFrame.from_dict(pokedex)\n",
    "df.set_index('#',inplace = True)\n",
    "df"
   ]
  },
  {
   "cell_type": "code",
   "execution_count": null,
   "metadata": {
    "scrolled": true
   },
   "outputs": [],
   "source": [
    "r = requests.get(url + '31').text\n",
    "\n",
    "s = bs(r, 'lxml')"
   ]
  },
  {
   "cell_type": "code",
   "execution_count": null,
   "metadata": {},
   "outputs": [],
   "source": [
    "#genders = (s.find_all('span', class_ = \"attribute-value\")[2])\n",
    "#types = s.find_all('div', class_ = 'dtm-type')\n",
    "#weaknesses = s.find_all('div', class_ = 'dtm-weaknesses')\n"
   ]
  },
  {
   "cell_type": "code",
   "execution_count": null,
   "metadata": {},
   "outputs": [],
   "source": []
  }
 ],
 "metadata": {
  "kernelspec": {
   "display_name": "Python 3",
   "language": "python",
   "name": "python3"
  },
  "language_info": {
   "codemirror_mode": {
    "name": "ipython",
    "version": 3
   },
   "file_extension": ".py",
   "mimetype": "text/x-python",
   "name": "python",
   "nbconvert_exporter": "python",
   "pygments_lexer": "ipython3",
   "version": "3.8.5"
  }
 },
 "nbformat": 4,
 "nbformat_minor": 4
}
