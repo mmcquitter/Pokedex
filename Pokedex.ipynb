{
 "cells": [
  {
   "cell_type": "markdown",
   "metadata": {},
   "source": [
    "# Pokedex Data "
   ]
  },
  {
   "cell_type": "markdown",
   "metadata": {},
   "source": [
    "#### Factors to Consider\n",
    "- pokemon id#\n",
    "- pokemon name\n",
    "- forms\n",
    "- versions"
   ]
  },
  {
   "cell_type": "markdown",
   "metadata": {},
   "source": [
    "#### Data Left to Collect\n",
    "- id#\n",
    "- name\n",
    "- image\n",
    "- form\n",
    "- version\n",
    "- height (avg)\n",
    "- weight (avg)\n",
    "- Gender(s)\n",
    "- Category\n",
    "- abilities\n",
    "    - details\n",
    "- type\n",
    "- weakness\n",
    "- stats\n",
    "    - HP\n",
    "    - Attack\n",
    "    - Defense\n",
    "    - Special Attack\n",
    "    - Special Defense\n",
    "    - Speed\n"
   ]
  },
  {
   "cell_type": "code",
   "execution_count": 1,
   "metadata": {},
   "outputs": [],
   "source": [
    "import pandas as pd\n",
    "import requests\n",
    "from bs4 import BeautifulSoup as bs\n",
    "\n",
    "url = 'https://www.pokemon.com/us/pokedex/'\n",
    "\n",
    "req = requests.get(url + '1').text\n",
    "\n",
    "soup = bs(req, 'lxml')\n",
    "\n",
    "prev_pokemon = soup.find('span', class_ = \"icon icon_arrow_sm_left\")\n",
    "max_num = (prev_pokemon.find_next_siblings(\"span\")[0]).string[1:]"
   ]
  },
  {
   "cell_type": "code",
   "execution_count": null,
   "metadata": {},
   "outputs": [],
   "source": [
    "pokedex = {\n",
    "    '#' : [],\n",
    "    'Name' : [],\n",
    "    '# of Forms' : [],\n",
    "    'Height' : [],\n",
    "    'Weight' : [],\n",
    "    'Genders' : [],\n",
    "    'Abilities' : [],\n",
    "    'Types' : [],\n",
    "    'Weaknesses' : [],\n",
    "    'Evolves into' : [],\n",
    "    'Evolved from' : [],\n",
    "    '#' : []\n",
    "}\n",
    "# int(max_num)+1\n",
    "for pokedex_num in range(1,10):\n",
    "    \n",
    "    r = requests.get(url + str(pokedex_num)).text\n",
    "\n",
    "    s = bs(r, 'lxml')\n",
    "\n",
    "    pokemon_name = str(s.title.string).split()[0]\n",
    "    \n",
    "    details = s.find_all('section')[1]\n",
    "    number_of_forms = len(details.find_all('option'))\n",
    "\n",
    "    pokedex['#'].append(pokedex_num)\n",
    "    pokedex['Name'].append(pokemon_name)\n",
    "    pokedex['# of Forms'].append(number_of_forms)\n",
    "    #pokedex['Height'].append()\n",
    "    #pokedex['Weight'].append()\n",
    "    #pokedex['Genders'].append()\n",
    "    #pokedex['Category'].append()\n",
    "    #pokedex['Abilities'].append()\n",
    "    #pokedex['Types'].append()\n",
    "    #pokedex['Weaknesses'].append()\n",
    "    #pokedex['Evolves into'].append()\n",
    "    #pokedex['Evolved from'].append()\n",
    "    #pokedex[''].append()\n",
    "\n",
    "\n",
    "df = pd.DataFrame.from_dict(pokedex)\n",
    "df.set_index('#',inplace = True)\n",
    "df"
   ]
  },
  {
   "cell_type": "code",
   "execution_count": null,
   "metadata": {
    "scrolled": true
   },
   "outputs": [],
   "source": [
    "r = requests.get(url + '1').text\n",
    "\n",
    "s = bs(req, 'lxml')\n",
    "\n",
    "genders = (s.find_all('span', class_ = \"attribute-value\")[2])\n",
    "genders"
   ]
  },
  {
   "cell_type": "code",
   "execution_count": null,
   "metadata": {},
   "outputs": [],
   "source": [
    "img_link = (s.find_all('img', class_ = 'active')[0]).get('src')\n",
    "height = (s.find_all('span', class_ = \"attribute-value\")[0]).string\n",
    "weight = (s.find_all('span', class_ = \"attribute-value\")[1]).string\n",
    "#genders = (s.find_all('span', class_ = \"attribute-value\")[2])\n",
    "category = (s.find_all('span', class_ = \"attribute-value\")[3]).string\n",
    "abilities = (s.find_all('span', class_ = \"attribute-value\")[4]).string\n",
    "#types = s.find_all('div', class_ = 'dtm-type')\n",
    "#weaknesses = s.find_all('div', class_ = 'dtm-weaknesses')\n"
   ]
  },
  {
   "cell_type": "code",
   "execution_count": null,
   "metadata": {},
   "outputs": [],
   "source": []
  }
 ],
 "metadata": {
  "kernelspec": {
   "display_name": "Python 3",
   "language": "python",
   "name": "python3"
  },
  "language_info": {
   "codemirror_mode": {
    "name": "ipython",
    "version": 3
   },
   "file_extension": ".py",
   "mimetype": "text/x-python",
   "name": "python",
   "nbconvert_exporter": "python",
   "pygments_lexer": "ipython3",
   "version": "3.8.5"
  }
 },
 "nbformat": 4,
 "nbformat_minor": 4
}
