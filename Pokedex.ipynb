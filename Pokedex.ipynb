{
 "cells": [
  {
   "cell_type": "markdown",
   "metadata": {},
   "source": [
    "# Pokedex Data "
   ]
  },
  {
   "cell_type": "markdown",
   "metadata": {},
   "source": [
    "#### Factors to Consider\n",
    "- pokemon id#\n",
    "- pokemon name\n",
    "- forms\n",
    "- versions"
   ]
  },
  {
   "cell_type": "markdown",
   "metadata": {},
   "source": [
    "#### Data to Collect\n",
    "- id#\n",
    "- name\n",
    "- form\n",
    "- version\n",
    "- height (avg)\n",
    "- weight (avg)\n",
    "- Gender(s)\n",
    "- Category\n",
    "- abilities\n",
    "    - details\n",
    "- type\n",
    "- weakness\n",
    "- stats\n",
    "    - HP\n",
    "    - Attack\n",
    "    - Defense\n",
    "    - Special Attack\n",
    "    - Special Defense\n",
    "    - Speed\n",
    "- image"
   ]
  },
  {
   "cell_type": "code",
   "execution_count": 50,
   "metadata": {},
   "outputs": [
    {
     "data": {
      "text/plain": [
       "[<option value=\"0\">Charizard</option>,\n",
       " <option value=\"1\">Mega Charizard X</option>,\n",
       " <option value=\"2\">Mega Charizard Y</option>,\n",
       " <option value=\"3\">Gigantamax Charizard</option>]"
      ]
     },
     "execution_count": 50,
     "metadata": {},
     "output_type": "execute_result"
    }
   ],
   "source": [
    "from bs4 import BeautifulSoup\n",
    "import requests\n",
    "\n",
    "url = 'https://www.pokemon.com/us/pokedex/6'\n",
    "\n",
    "r = requests.get(url).text\n",
    "\n",
    "soup = BeautifulSoup(r, 'lxml')\n",
    "\n",
    "name = str(soup.title.string).split()[0]\n",
    "\n",
    "details = soup.find_all('section')[1]\n",
    "number_of_forms = len(details.find_all('option'))\n",
    "\n",
    "details.find_all('option')"
   ]
  },
  {
   "cell_type": "code",
   "execution_count": null,
   "metadata": {},
   "outputs": [],
   "source": []
  }
 ],
 "metadata": {
  "kernelspec": {
   "display_name": "Python 3",
   "language": "python",
   "name": "python3"
  },
  "language_info": {
   "codemirror_mode": {
    "name": "ipython",
    "version": 3
   },
   "file_extension": ".py",
   "mimetype": "text/x-python",
   "name": "python",
   "nbconvert_exporter": "python",
   "pygments_lexer": "ipython3",
   "version": "3.8.5"
  }
 },
 "nbformat": 4,
 "nbformat_minor": 4
}
